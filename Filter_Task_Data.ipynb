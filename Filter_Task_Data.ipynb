{
 "cells": [
  {
   "cell_type": "code",
   "execution_count": 6,
   "metadata": {
    "collapsed": false
   },
   "outputs": [
    {
     "name": "stderr",
     "output_type": "stream",
     "text": [
      "/Users/victoriaantinucci/anaconda/lib/python2.7/site-packages/matplotlib/font_manager.py:273: UserWarning: Matplotlib is building the font cache using fc-list. This may take a moment.\n",
      "  warnings.warn('Matplotlib is building the font cache using fc-list. This may take a moment.')\n"
     ]
    }
   ],
   "source": [
    "import pandas as pd\n",
    "import glob\n",
    "import numpy as np\n",
    "import matplotlib.pyplot as plt"
   ]
  },
  {
   "cell_type": "code",
   "execution_count": 7,
   "metadata": {
    "collapsed": true
   },
   "outputs": [],
   "source": [
    "path_list = glob.glob('*.csv')"
   ]
  },
  {
   "cell_type": "code",
   "execution_count": 9,
   "metadata": {
    "collapsed": false
   },
   "outputs": [
    {
     "data": {
      "text/plain": [
       "['101_filtertask_2016_Jun_07_1140 copy.csv',\n",
       " '102_filtertask_2016_Jun_15_1142 copy.csv',\n",
       " '3_filtertask_2016_Jul_08_1036 copy.csv',\n",
       " '5_filtertask_2016_Jul_15_1040 copy.csv',\n",
       " '6_filtertask_2016_Jul_19_1233 copy.csv',\n",
       " '7_filtertask_2016_Jul_21_1437 copy.csv']"
      ]
     },
     "execution_count": 9,
     "metadata": {},
     "output_type": "execute_result"
    }
   ],
   "source": [
    "path_list[:7]"
   ]
  },
  {
   "cell_type": "code",
   "execution_count": 10,
   "metadata": {
    "collapsed": false
   },
   "outputs": [
    {
     "data": {
      "text/plain": [
       "6"
      ]
     },
     "execution_count": 10,
     "metadata": {},
     "output_type": "execute_result"
    }
   ],
   "source": [
    "len(path_list)"
   ]
  },
  {
   "cell_type": "code",
   "execution_count": 11,
   "metadata": {
    "collapsed": true
   },
   "outputs": [],
   "source": [
    "temp_df = pd.read_csv(path_list[0])"
   ]
  },
  {
   "cell_type": "code",
   "execution_count": 12,
   "metadata": {
    "collapsed": false
   },
   "outputs": [
    {
     "data": {
      "text/html": [
       "<div>\n",
       "<table border=\"1\" class=\"dataframe\">\n",
       "  <thead>\n",
       "    <tr style=\"text-align: right;\">\n",
       "      <th></th>\n",
       "      <th>load</th>\n",
       "      <th>filter</th>\n",
       "      <th>trial_size</th>\n",
       "      <th>probe_type</th>\n",
       "      <th>start_time</th>\n",
       "      <th>quadrant</th>\n",
       "      <th>filter_size</th>\n",
       "      <th>corr_ans</th>\n",
       "      <th>trial_dot_start</th>\n",
       "      <th>sample_trial.thisRepN</th>\n",
       "      <th>...</th>\n",
       "      <th>key_resp_3.keys</th>\n",
       "      <th>key_resp_3.rt</th>\n",
       "      <th>key_resp_7.keys</th>\n",
       "      <th>key_resp_7.rt</th>\n",
       "      <th>date</th>\n",
       "      <th>frameRate</th>\n",
       "      <th>expName</th>\n",
       "      <th>session</th>\n",
       "      <th>participant</th>\n",
       "      <th>Unnamed: 42</th>\n",
       "    </tr>\n",
       "  </thead>\n",
       "  <tbody>\n",
       "    <tr>\n",
       "      <th>0</th>\n",
       "      <td>NaN</td>\n",
       "      <td>NaN</td>\n",
       "      <td>NaN</td>\n",
       "      <td>NaN</td>\n",
       "      <td>NaN</td>\n",
       "      <td>NaN</td>\n",
       "      <td>NaN</td>\n",
       "      <td>NaN</td>\n",
       "      <td>NaN</td>\n",
       "      <td>NaN</td>\n",
       "      <td>...</td>\n",
       "      <td>NaN</td>\n",
       "      <td>NaN</td>\n",
       "      <td>NaN</td>\n",
       "      <td>NaN</td>\n",
       "      <td>2016_Jun_07_1140</td>\n",
       "      <td>59.924022</td>\n",
       "      <td>filtertask</td>\n",
       "      <td>1</td>\n",
       "      <td>101</td>\n",
       "      <td>NaN</td>\n",
       "    </tr>\n",
       "    <tr>\n",
       "      <th>1</th>\n",
       "      <td>NaN</td>\n",
       "      <td>NaN</td>\n",
       "      <td>NaN</td>\n",
       "      <td>NaN</td>\n",
       "      <td>NaN</td>\n",
       "      <td>NaN</td>\n",
       "      <td>NaN</td>\n",
       "      <td>NaN</td>\n",
       "      <td>NaN</td>\n",
       "      <td>NaN</td>\n",
       "      <td>...</td>\n",
       "      <td>NaN</td>\n",
       "      <td>NaN</td>\n",
       "      <td>NaN</td>\n",
       "      <td>NaN</td>\n",
       "      <td>2016_Jun_07_1140</td>\n",
       "      <td>59.924022</td>\n",
       "      <td>filtertask</td>\n",
       "      <td>1</td>\n",
       "      <td>101</td>\n",
       "      <td>NaN</td>\n",
       "    </tr>\n",
       "    <tr>\n",
       "      <th>2</th>\n",
       "      <td>NaN</td>\n",
       "      <td>NaN</td>\n",
       "      <td>NaN</td>\n",
       "      <td>NaN</td>\n",
       "      <td>NaN</td>\n",
       "      <td>NaN</td>\n",
       "      <td>NaN</td>\n",
       "      <td>NaN</td>\n",
       "      <td>NaN</td>\n",
       "      <td>NaN</td>\n",
       "      <td>...</td>\n",
       "      <td>NaN</td>\n",
       "      <td>NaN</td>\n",
       "      <td>NaN</td>\n",
       "      <td>NaN</td>\n",
       "      <td>2016_Jun_07_1140</td>\n",
       "      <td>59.924022</td>\n",
       "      <td>filtertask</td>\n",
       "      <td>1</td>\n",
       "      <td>101</td>\n",
       "      <td>NaN</td>\n",
       "    </tr>\n",
       "    <tr>\n",
       "      <th>3</th>\n",
       "      <td>low</td>\n",
       "      <td>early</td>\n",
       "      <td>2.0</td>\n",
       "      <td>correct</td>\n",
       "      <td>1.0</td>\n",
       "      <td>1.0</td>\n",
       "      <td>large</td>\n",
       "      <td>1.0</td>\n",
       "      <td>3.5</td>\n",
       "      <td>0.0</td>\n",
       "      <td>...</td>\n",
       "      <td>NaN</td>\n",
       "      <td>NaN</td>\n",
       "      <td>NaN</td>\n",
       "      <td>NaN</td>\n",
       "      <td>2016_Jun_07_1140</td>\n",
       "      <td>59.924022</td>\n",
       "      <td>filtertask</td>\n",
       "      <td>1</td>\n",
       "      <td>101</td>\n",
       "      <td>NaN</td>\n",
       "    </tr>\n",
       "    <tr>\n",
       "      <th>4</th>\n",
       "      <td>low</td>\n",
       "      <td>late</td>\n",
       "      <td>4.0</td>\n",
       "      <td>outside_two</td>\n",
       "      <td>4.5</td>\n",
       "      <td>2.0</td>\n",
       "      <td>large</td>\n",
       "      <td>0.0</td>\n",
       "      <td>5.0</td>\n",
       "      <td>0.0</td>\n",
       "      <td>...</td>\n",
       "      <td>NaN</td>\n",
       "      <td>NaN</td>\n",
       "      <td>NaN</td>\n",
       "      <td>NaN</td>\n",
       "      <td>2016_Jun_07_1140</td>\n",
       "      <td>59.924022</td>\n",
       "      <td>filtertask</td>\n",
       "      <td>1</td>\n",
       "      <td>101</td>\n",
       "      <td>NaN</td>\n",
       "    </tr>\n",
       "  </tbody>\n",
       "</table>\n",
       "<p>5 rows × 43 columns</p>\n",
       "</div>"
      ],
      "text/plain": [
       "  load filter  trial_size   probe_type  start_time  quadrant filter_size  \\\n",
       "0  NaN    NaN         NaN          NaN         NaN       NaN         NaN   \n",
       "1  NaN    NaN         NaN          NaN         NaN       NaN         NaN   \n",
       "2  NaN    NaN         NaN          NaN         NaN       NaN         NaN   \n",
       "3  low  early         2.0      correct         1.0       1.0       large   \n",
       "4  low   late         4.0  outside_two         4.5       2.0       large   \n",
       "\n",
       "   corr_ans  trial_dot_start  sample_trial.thisRepN     ...      \\\n",
       "0       NaN              NaN                    NaN     ...       \n",
       "1       NaN              NaN                    NaN     ...       \n",
       "2       NaN              NaN                    NaN     ...       \n",
       "3       1.0              3.5                    0.0     ...       \n",
       "4       0.0              5.0                    0.0     ...       \n",
       "\n",
       "   key_resp_3.keys  key_resp_3.rt  key_resp_7.keys  key_resp_7.rt  \\\n",
       "0              NaN            NaN              NaN            NaN   \n",
       "1              NaN            NaN              NaN            NaN   \n",
       "2              NaN            NaN              NaN            NaN   \n",
       "3              NaN            NaN              NaN            NaN   \n",
       "4              NaN            NaN              NaN            NaN   \n",
       "\n",
       "               date  frameRate     expName session  participant Unnamed: 42  \n",
       "0  2016_Jun_07_1140  59.924022  filtertask       1          101         NaN  \n",
       "1  2016_Jun_07_1140  59.924022  filtertask       1          101         NaN  \n",
       "2  2016_Jun_07_1140  59.924022  filtertask       1          101         NaN  \n",
       "3  2016_Jun_07_1140  59.924022  filtertask       1          101         NaN  \n",
       "4  2016_Jun_07_1140  59.924022  filtertask       1          101         NaN  \n",
       "\n",
       "[5 rows x 43 columns]"
      ]
     },
     "execution_count": 12,
     "metadata": {},
     "output_type": "execute_result"
    }
   ],
   "source": [
    "temp_df.head()"
   ]
  },
  {
   "cell_type": "code",
   "execution_count": 13,
   "metadata": {
    "collapsed": false
   },
   "outputs": [
    {
     "data": {
      "text/plain": [
       "'101_filtertask_2016_Jun_07_1140 copy.csv'"
      ]
     },
     "execution_count": 13,
     "metadata": {},
     "output_type": "execute_result"
    }
   ],
   "source": [
    "temp_path = path_list[0]\n",
    "temp_path"
   ]
  },
  {
   "cell_type": "code",
   "execution_count": 14,
   "metadata": {
    "collapsed": true
   },
   "outputs": [],
   "source": [
    "combined_df = pd.DataFrame()"
   ]
  },
  {
   "cell_type": "code",
   "execution_count": 15,
   "metadata": {
    "collapsed": true
   },
   "outputs": [],
   "source": [
    "i = 0 \n",
    "df_list = []\n",
    "for path in path_list:\n",
    "    temp_df = pd.read_csv(path, header =0, index_col=None)\n",
    "    df_list.append(temp_df)"
   ]
  },
  {
   "cell_type": "code",
   "execution_count": 16,
   "metadata": {
    "collapsed": true
   },
   "outputs": [],
   "source": [
    "combined_df = pd.concat(df_list)"
   ]
  },
  {
   "cell_type": "code",
   "execution_count": 17,
   "metadata": {
    "collapsed": true
   },
   "outputs": [],
   "source": [
    "combined_df.to_csv(\"combined_data.csv\", index=False)"
   ]
  },
  {
   "cell_type": "code",
   "execution_count": 18,
   "metadata": {
    "collapsed": false
   },
   "outputs": [
    {
     "data": {
      "text/html": [
       "<div>\n",
       "<table border=\"1\" class=\"dataframe\">\n",
       "  <thead>\n",
       "    <tr style=\"text-align: right;\">\n",
       "      <th></th>\n",
       "      <th>load</th>\n",
       "      <th>filter</th>\n",
       "      <th>trial_size</th>\n",
       "      <th>probe_type</th>\n",
       "      <th>start_time</th>\n",
       "      <th>quadrant</th>\n",
       "      <th>filter_size</th>\n",
       "      <th>corr_ans</th>\n",
       "      <th>trial_dot_start</th>\n",
       "      <th>sample_trial.thisRepN</th>\n",
       "      <th>...</th>\n",
       "      <th>key_resp_3.keys</th>\n",
       "      <th>key_resp_3.rt</th>\n",
       "      <th>key_resp_7.keys</th>\n",
       "      <th>key_resp_7.rt</th>\n",
       "      <th>date</th>\n",
       "      <th>frameRate</th>\n",
       "      <th>expName</th>\n",
       "      <th>session</th>\n",
       "      <th>participant</th>\n",
       "      <th>Unnamed: 42</th>\n",
       "    </tr>\n",
       "  </thead>\n",
       "  <tbody>\n",
       "    <tr>\n",
       "      <th>0</th>\n",
       "      <td>NaN</td>\n",
       "      <td>NaN</td>\n",
       "      <td>NaN</td>\n",
       "      <td>NaN</td>\n",
       "      <td>NaN</td>\n",
       "      <td>NaN</td>\n",
       "      <td>NaN</td>\n",
       "      <td>NaN</td>\n",
       "      <td>NaN</td>\n",
       "      <td>NaN</td>\n",
       "      <td>...</td>\n",
       "      <td>NaN</td>\n",
       "      <td>NaN</td>\n",
       "      <td>NaN</td>\n",
       "      <td>NaN</td>\n",
       "      <td>2016_Jun_07_1140</td>\n",
       "      <td>59.924022</td>\n",
       "      <td>filtertask</td>\n",
       "      <td>1</td>\n",
       "      <td>101</td>\n",
       "      <td>NaN</td>\n",
       "    </tr>\n",
       "    <tr>\n",
       "      <th>1</th>\n",
       "      <td>NaN</td>\n",
       "      <td>NaN</td>\n",
       "      <td>NaN</td>\n",
       "      <td>NaN</td>\n",
       "      <td>NaN</td>\n",
       "      <td>NaN</td>\n",
       "      <td>NaN</td>\n",
       "      <td>NaN</td>\n",
       "      <td>NaN</td>\n",
       "      <td>NaN</td>\n",
       "      <td>...</td>\n",
       "      <td>NaN</td>\n",
       "      <td>NaN</td>\n",
       "      <td>NaN</td>\n",
       "      <td>NaN</td>\n",
       "      <td>2016_Jun_07_1140</td>\n",
       "      <td>59.924022</td>\n",
       "      <td>filtertask</td>\n",
       "      <td>1</td>\n",
       "      <td>101</td>\n",
       "      <td>NaN</td>\n",
       "    </tr>\n",
       "    <tr>\n",
       "      <th>2</th>\n",
       "      <td>NaN</td>\n",
       "      <td>NaN</td>\n",
       "      <td>NaN</td>\n",
       "      <td>NaN</td>\n",
       "      <td>NaN</td>\n",
       "      <td>NaN</td>\n",
       "      <td>NaN</td>\n",
       "      <td>NaN</td>\n",
       "      <td>NaN</td>\n",
       "      <td>NaN</td>\n",
       "      <td>...</td>\n",
       "      <td>NaN</td>\n",
       "      <td>NaN</td>\n",
       "      <td>NaN</td>\n",
       "      <td>NaN</td>\n",
       "      <td>2016_Jun_07_1140</td>\n",
       "      <td>59.924022</td>\n",
       "      <td>filtertask</td>\n",
       "      <td>1</td>\n",
       "      <td>101</td>\n",
       "      <td>NaN</td>\n",
       "    </tr>\n",
       "    <tr>\n",
       "      <th>3</th>\n",
       "      <td>low</td>\n",
       "      <td>early</td>\n",
       "      <td>2.0</td>\n",
       "      <td>correct</td>\n",
       "      <td>1.0</td>\n",
       "      <td>1.0</td>\n",
       "      <td>large</td>\n",
       "      <td>1.0</td>\n",
       "      <td>3.5</td>\n",
       "      <td>0.0</td>\n",
       "      <td>...</td>\n",
       "      <td>NaN</td>\n",
       "      <td>NaN</td>\n",
       "      <td>NaN</td>\n",
       "      <td>NaN</td>\n",
       "      <td>2016_Jun_07_1140</td>\n",
       "      <td>59.924022</td>\n",
       "      <td>filtertask</td>\n",
       "      <td>1</td>\n",
       "      <td>101</td>\n",
       "      <td>NaN</td>\n",
       "    </tr>\n",
       "    <tr>\n",
       "      <th>4</th>\n",
       "      <td>low</td>\n",
       "      <td>late</td>\n",
       "      <td>4.0</td>\n",
       "      <td>outside_two</td>\n",
       "      <td>4.5</td>\n",
       "      <td>2.0</td>\n",
       "      <td>large</td>\n",
       "      <td>0.0</td>\n",
       "      <td>5.0</td>\n",
       "      <td>0.0</td>\n",
       "      <td>...</td>\n",
       "      <td>NaN</td>\n",
       "      <td>NaN</td>\n",
       "      <td>NaN</td>\n",
       "      <td>NaN</td>\n",
       "      <td>2016_Jun_07_1140</td>\n",
       "      <td>59.924022</td>\n",
       "      <td>filtertask</td>\n",
       "      <td>1</td>\n",
       "      <td>101</td>\n",
       "      <td>NaN</td>\n",
       "    </tr>\n",
       "  </tbody>\n",
       "</table>\n",
       "<p>5 rows × 43 columns</p>\n",
       "</div>"
      ],
      "text/plain": [
       "  load filter  trial_size   probe_type  start_time  quadrant filter_size  \\\n",
       "0  NaN    NaN         NaN          NaN         NaN       NaN         NaN   \n",
       "1  NaN    NaN         NaN          NaN         NaN       NaN         NaN   \n",
       "2  NaN    NaN         NaN          NaN         NaN       NaN         NaN   \n",
       "3  low  early         2.0      correct         1.0       1.0       large   \n",
       "4  low   late         4.0  outside_two         4.5       2.0       large   \n",
       "\n",
       "   corr_ans  trial_dot_start  sample_trial.thisRepN     ...      \\\n",
       "0       NaN              NaN                    NaN     ...       \n",
       "1       NaN              NaN                    NaN     ...       \n",
       "2       NaN              NaN                    NaN     ...       \n",
       "3       1.0              3.5                    0.0     ...       \n",
       "4       0.0              5.0                    0.0     ...       \n",
       "\n",
       "   key_resp_3.keys  key_resp_3.rt  key_resp_7.keys  key_resp_7.rt  \\\n",
       "0              NaN            NaN              NaN            NaN   \n",
       "1              NaN            NaN              NaN            NaN   \n",
       "2              NaN            NaN              NaN            NaN   \n",
       "3              NaN            NaN              NaN            NaN   \n",
       "4              NaN            NaN              NaN            NaN   \n",
       "\n",
       "               date  frameRate     expName session  participant Unnamed: 42  \n",
       "0  2016_Jun_07_1140  59.924022  filtertask       1          101         NaN  \n",
       "1  2016_Jun_07_1140  59.924022  filtertask       1          101         NaN  \n",
       "2  2016_Jun_07_1140  59.924022  filtertask       1          101         NaN  \n",
       "3  2016_Jun_07_1140  59.924022  filtertask       1          101         NaN  \n",
       "4  2016_Jun_07_1140  59.924022  filtertask       1          101         NaN  \n",
       "\n",
       "[5 rows x 43 columns]"
      ]
     },
     "execution_count": 18,
     "metadata": {},
     "output_type": "execute_result"
    }
   ],
   "source": [
    "combined_df.head()"
   ]
  },
  {
   "cell_type": "code",
   "execution_count": 19,
   "metadata": {
    "collapsed": false
   },
   "outputs": [
    {
     "data": {
      "text/plain": [
       "630"
      ]
     },
     "execution_count": 19,
     "metadata": {},
     "output_type": "execute_result"
    }
   ],
   "source": [
    "len(combined_df)"
   ]
  },
  {
   "cell_type": "code",
   "execution_count": null,
   "metadata": {
    "collapsed": true
   },
   "outputs": [],
   "source": []
  }
 ],
 "metadata": {
  "kernelspec": {
   "display_name": "Python 2",
   "language": "python",
   "name": "python2"
  },
  "language_info": {
   "codemirror_mode": {
    "name": "ipython",
    "version": 2
   },
   "file_extension": ".py",
   "mimetype": "text/x-python",
   "name": "python",
   "nbconvert_exporter": "python",
   "pygments_lexer": "ipython2",
   "version": "2.7.11"
  }
 },
 "nbformat": 4,
 "nbformat_minor": 0
}
